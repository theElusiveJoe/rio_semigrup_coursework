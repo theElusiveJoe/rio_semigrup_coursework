{
 "cells": [
  {
   "cell_type": "code",
   "execution_count": 5,
   "metadata": {},
   "outputs": [
    {
     "name": "stdout",
     "output_type": "stream",
     "text": [
      "/home/f/Desktop/rio_semigroup_coursework/src\n"
     ]
    },
    {
     "data": {
      "text/plain": [
       "'/home/f/Desktop/rio_semigroup_coursework/src'"
      ]
     },
     "execution_count": 5,
     "metadata": {},
     "output_type": "execute_result"
    }
   ],
   "source": [
    "%pwd\n",
    "%cd ..\n",
    "%pwd"
   ]
  },
  {
   "cell_type": "code",
   "execution_count": 11,
   "metadata": {},
   "outputs": [],
   "source": [
    "from algebra.monoid import MonoidController, MonoidElem\n",
    "import samples"
   ]
  },
  {
   "cell_type": "code",
   "execution_count": 9,
   "metadata": {},
   "outputs": [
    {
     "data": {
      "text/plain": [
       "[(1, 1, 3), (2, 3, 1), (2, 1, 3)]"
      ]
     },
     "execution_count": 9,
     "metadata": {},
     "output_type": "execute_result"
    }
   ],
   "source": [
    "S = samples.simple_samples.T3_ENTIRE\n",
    "S.generators"
   ]
  },
  {
   "cell_type": "code",
   "execution_count": 16,
   "metadata": {},
   "outputs": [
    {
     "data": {
      "text/plain": [
       "(\"a\", \"b\", \"c\", \"d\")"
      ]
     },
     "execution_count": 16,
     "metadata": {},
     "output_type": "execute_result"
    }
   ],
   "source": [
    "a = MonoidElem.from_char(0)\n",
    "b = MonoidElem.from_char(1)\n",
    "c = MonoidElem.from_char(2)\n",
    "d = MonoidElem.from_char(3)\n",
    "a,b,c,d"
   ]
  },
  {
   "cell_type": "code",
   "execution_count": 28,
   "metadata": {},
   "outputs": [
    {
     "name": "stdout",
     "output_type": "stream",
     "text": [
      "\"aab\"\n",
      "1001002\n"
     ]
    }
   ],
   "source": [
    "# соберем строку из букв\n",
    "s = a + a + b\n",
    "# ее численное представление 1001002 = a a b\n",
    "print(s)\n",
    "print(s.symbols)"
   ]
  },
  {
   "cell_type": "code",
   "execution_count": 27,
   "metadata": {},
   "outputs": [
    {
     "name": "stdout",
     "output_type": "stream",
     "text": [
      "[1, 1, 2]\n",
      "[(2, 3, 1), (2, 3, 1), (2, 1, 3)]\n",
      "[(1, 1, 3), (1, 1, 3), (2, 3, 1)]\n"
     ]
    },
    {
     "data": {
      "text/plain": [
       "[(2, 3, 1), (2, 3, 1), (2, 1, 3)]"
      ]
     },
     "execution_count": 27,
     "metadata": {},
     "output_type": "execute_result"
    }
   ],
   "source": [
    "# разобъем ее на состовляющие\n",
    "symbols_seq = s.to_symbols_seq()\n",
    "print(symbols_seq) # получим [a a b] = [1 1 2]\n",
    "\n",
    "# проблема в том, что числом 0 представляется пустая строка,\n",
    "# поэтому индексация в S.generators должна вестись с единицы\n",
    "print(list(S.generators[i] for i in symbols_seq)) # неправильно\n",
    "print(list(S.generators[i-1] for i in symbols_seq)) # неправильно\n",
    "\n",
    "S.symbols_to_values(symbols_seq)"
   ]
  }
 ],
 "metadata": {
  "kernelspec": {
   "display_name": "Python 3",
   "language": "python",
   "name": "python3"
  },
  "language_info": {
   "codemirror_mode": {
    "name": "ipython",
    "version": 3
   },
   "file_extension": ".py",
   "mimetype": "text/x-python",
   "name": "python",
   "nbconvert_exporter": "python",
   "pygments_lexer": "ipython3",
   "version": "3.11.6"
  }
 },
 "nbformat": 4,
 "nbformat_minor": 2
}
